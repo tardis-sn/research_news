{
 "cells": [
  {
   "cell_type": "code",
   "execution_count": 53,
   "metadata": {},
   "outputs": [],
   "source": [
    "from pathlib import Path\n",
    "import json\n",
    "import shutil"
   ]
  },
  {
   "cell_type": "code",
   "execution_count": 54,
   "metadata": {},
   "outputs": [],
   "source": [
    "ARTICLE_ID = ''    #Fill this id.First two three words of your title and then author's first name\n",
    "NEW_ARTICLE_DIR = Path('articles') / ARTICLE_ID\n",
    "SAMPLE_DIR = Path('sample')"
   ]
  },
  {
   "cell_type": "code",
   "execution_count": 55,
   "metadata": {},
   "outputs": [],
   "source": [
    "if not ARTICLE_ID:\n",
    "    raise ValueError(\"Error: ARTICLE_ID cannot be empty.\")\n",
    "\n",
    "if NEW_ARTICLE_DIR.exists():\n",
    "    raise FileExistsError(f\"Error: An article with ID '{ARTICLE_ID}' already exists in the directory.\")\n"
   ]
  },
  {
   "cell_type": "code",
   "execution_count": 56,
   "metadata": {},
   "outputs": [],
   "source": [
    "NEW_ARTICLE_DIR.mkdir(parents=True, exist_ok=True)\n",
    "shutil.copytree(SAMPLE_DIR, NEW_ARTICLE_DIR, dirs_exist_ok=True)\n",
    "\n",
    "NEW_ARTICLE_INFO_JSON = NEW_ARTICLE_DIR / 'info.json'\n",
    "\n",
    "with open(NEW_ARTICLE_INFO_JSON, 'r') as f_new:\n",
    "    new_content = json.load(f_new)\n",
    "\n",
    "new_content['article_id'] = ARTICLE_ID\n",
    "\n",
    "with open(NEW_ARTICLE_INFO_JSON, 'w') as f_new:\n",
    "    json.dump(new_content, f_new,indent=4)"
   ]
  }
 ],
 "metadata": {
  "kernelspec": {
   "display_name": "base",
   "language": "python",
   "name": "python3"
  },
  "language_info": {
   "codemirror_mode": {
    "name": "ipython",
    "version": 3
   },
   "file_extension": ".py",
   "mimetype": "text/x-python",
   "name": "python",
   "nbconvert_exporter": "python",
   "pygments_lexer": "ipython3",
   "version": "3.10.14"
  }
 },
 "nbformat": 4,
 "nbformat_minor": 2
}
