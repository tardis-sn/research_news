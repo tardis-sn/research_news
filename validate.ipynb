{
   "cells": [
      {
         "cell_type": "markdown",
         "metadata": {},
         "source": [
            "# Validating articles"
         ]
      },
      {
         "cell_type": "markdown",
         "metadata": {},
         "source": [
            "Managing Imports"
         ]
      },
      {
         "cell_type": "code",
         "execution_count": 10,
         "metadata": {},
         "outputs": [],
         "source": [
            "import json\n",
            "import jsonschema\n",
            "from pathlib import Path"
         ]
      },
      {
         "cell_type": "markdown",
         "metadata": {},
         "source": [
            "Defining Constants"
         ]
      },
      {
         "cell_type": "code",
         "execution_count": 11,
         "metadata": {},
         "outputs": [],
         "source": [
            "# Defining Colors\n",
            "RED = \"\\033[1;31m\"\n",
            "YELLOW = \"\\033[0;33m\"\n",
            "NOCOLOR = \"\\033[0m\"\n",
            "GREEN = \"\\033[0;32m\"\n",
            "CYAN = \"\\033[1;36m\"\n",
            "\n",
            "ARTICLE_SCHEMA = Path(\"schema/article.json\")\n",
            "ALL_ARTICLES_DIR = Path(\"articles\")\n"
         ]
      },
      {
         "cell_type": "markdown",
         "metadata": {},
         "source": [
            "Code to validate articles"
         ]
      },
      {
         "cell_type": "code",
         "execution_count": 8,
         "metadata": {},
         "outputs": [
            {
               "name": "stdout",
               "output_type": "stream",
               "text": [
                  "\u001b[0;32mVALIDATION SUCCESSFUL\u001b[0m\n"
               ]
            }
         ],
         "source": [
            "import jsonschema\n",
            "from collections import defaultdict\n",
            "\n",
            "custom_errors = {\n",
            "    \"date\": \"Date must be in MM‑DD‑YYYY format (e.g. 01‑31‑2025).\",\n",
            "}\n",
            "\n",
            "error_log: dict[str, list[str]] = defaultdict(list)\n",
            "\n",
            "research_validation_failed = False\n",
            "for single_article_file in ALL_ARTICLES_DIR.rglob(\"*.json\"):\n",
            "    with open(single_article_file) as f:\n",
            "        content = json.load(f)\n",
            "    try:\n",
            "        with open(ARTICLE_SCHEMA) as schema_f:\n",
            "            schema_data = json.load(schema_f)\n",
            "        jsonschema.validate(content, schema_data)\n",
            "    except (json.JSONDecodeError) as e:\n",
            "        research_validation_failed = True\n",
            "        error_log[str(single_article_file)].append(f\"Invalid JSON: {e}\")\n",
            "    except jsonschema.ValidationError as e:\n",
            "        research_validation_failed = True\n",
            "        field = list(e.path)[-1] if e.path else None\n",
            "\n",
            "        msg = custom_errors.get(field, e.message)\n",
            "\n",
            "        error_log[str(single_article_file)].append(f\"{field!r}: {msg}\")\n",
            "if research_validation_failed:\n",
            "    for fname, errs in error_log.items():\n",
            "        for err in errs:\n",
            "            print(f\"Please recheck JSON file: {fname} — Error: {err}\")\n",
            "    print(f\"{RED}VALIDATION FAILED\")\n",
            "else:\n",
            "    print(f\"{GREEN}VALIDATION SUCCESSFUL{NOCOLOR}\")\n"
         ]
      }
   ],
   "metadata": {
      "kernelspec": {
         "display_name": "Python 3",
         "language": "python",
         "name": "python3"
      },
      "language_info": {
         "codemirror_mode": {
            "name": "ipython",
            "version": 3
         },
         "file_extension": ".py",
         "mimetype": "text/x-python",
         "name": "python",
         "nbconvert_exporter": "python",
         "pygments_lexer": "ipython3",
         "version": "3.11.5"
      }
   },
   "nbformat": 4,
   "nbformat_minor": 2
}
